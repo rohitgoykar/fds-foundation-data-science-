{
 "cells": [
  {
   "cell_type": "code",
   "execution_count": 1,
   "id": "6137cc52-5d4f-4ae0-9cc6-7162485e3883",
   "metadata": {},
   "outputs": [],
   "source": [
    "import numpy as np"
   ]
  },
  {
   "cell_type": "code",
   "execution_count": 29,
   "id": "b27dffe9-2eb3-4304-8142-28d1e6619f83",
   "metadata": {},
   "outputs": [
    {
     "name": "stdout",
     "output_type": "stream",
     "text": [
      "4\n",
      "3\n"
     ]
    }
   ],
   "source": [
    "#display array\n",
    "arr1=np.array([1,2,3,4])\n",
    "arr1\n",
    "print(arr1[-1])   # find last element in array\n",
    "print(arr1[2])"
   ]
  },
  {
   "cell_type": "code",
   "execution_count": 3,
   "id": "181a10e0-10de-4338-add9-b7b669919527",
   "metadata": {},
   "outputs": [
    {
     "data": {
      "text/plain": [
       "dtype('int32')"
      ]
     },
     "execution_count": 3,
     "metadata": {},
     "output_type": "execute_result"
    }
   ],
   "source": [
    "# find datatype\n",
    "arr1.dtype"
   ]
  },
  {
   "cell_type": "code",
   "execution_count": 4,
   "id": "49a88c04-627e-4290-b989-d7b3467e585f",
   "metadata": {},
   "outputs": [
    {
     "data": {
      "text/plain": [
       "(4,)"
      ]
     },
     "execution_count": 4,
     "metadata": {},
     "output_type": "execute_result"
    }
   ],
   "source": [
    "# find shape\n",
    "arr1.shape"
   ]
  },
  {
   "cell_type": "code",
   "execution_count": 5,
   "id": "920d9706-7008-4c41-bebb-e57a8c84e05e",
   "metadata": {},
   "outputs": [
    {
     "data": {
      "text/plain": [
       "1"
      ]
     },
     "execution_count": 5,
     "metadata": {},
     "output_type": "execute_result"
    }
   ],
   "source": [
    "arr1.ndim"
   ]
  },
  {
   "cell_type": "code",
   "execution_count": 6,
   "id": "cb52e01f-c43d-46e3-8792-62d401841dc7",
   "metadata": {},
   "outputs": [
    {
     "data": {
      "text/plain": [
       "4"
      ]
     },
     "execution_count": 6,
     "metadata": {},
     "output_type": "execute_result"
    }
   ],
   "source": [
    "arr1.size"
   ]
  },
  {
   "cell_type": "code",
   "execution_count": 10,
   "id": "366e137c-3738-4651-956b-8fde958fc6e7",
   "metadata": {},
   "outputs": [
    {
     "data": {
      "text/plain": [
       "array([2, 4, 6])"
      ]
     },
     "execution_count": 10,
     "metadata": {},
     "output_type": "execute_result"
    }
   ],
   "source": [
    "# 1D array\n",
    "x=np.array([2,4,6])\n",
    "x"
   ]
  },
  {
   "cell_type": "code",
   "execution_count": 15,
   "id": "7f5672e6-c5ef-4fb2-8f3e-e4a057e6582a",
   "metadata": {},
   "outputs": [
    {
     "data": {
      "text/plain": [
       "array([[10, 20, 30],\n",
       "       [20, 30, 40]])"
      ]
     },
     "execution_count": 15,
     "metadata": {},
     "output_type": "execute_result"
    }
   ],
   "source": [
    "# 2D array\n",
    "y=np.array([[10,20,30],[20,30,40]])\n",
    "y"
   ]
  },
  {
   "cell_type": "code",
   "execution_count": 16,
   "id": "0124d30c-a2de-485a-8a68-70f48396276c",
   "metadata": {},
   "outputs": [
    {
     "data": {
      "text/plain": [
       "array([[50, 60, 70],\n",
       "       [80, 90, 10],\n",
       "       [20, 30, 40]])"
      ]
     },
     "execution_count": 16,
     "metadata": {},
     "output_type": "execute_result"
    }
   ],
   "source": [
    "# 3D array\n",
    "z=np.array([[50,60,70],[80,90,10],[20,30,40]])\n",
    "z"
   ]
  },
  {
   "cell_type": "code",
   "execution_count": 41,
   "id": "bf4ee918-9d5e-4bbc-974b-a39b3c34bddb",
   "metadata": {},
   "outputs": [
    {
     "name": "stdout",
     "output_type": "stream",
     "text": [
      "3\n"
     ]
    }
   ],
   "source": [
    "# arrange function in arrray\n",
    "a=np.arange(1,5)\n",
    "print(a)\n",
    "index_max=np.argmax(a)   # max index in array\n",
    "print(index_max)\n"
   ]
  },
  {
   "cell_type": "code",
   "execution_count": 32,
   "id": "c75d60d7-3558-45d4-b3cc-97c74e277058",
   "metadata": {},
   "outputs": [
    {
     "data": {
      "text/plain": [
       "array([[1, 2, 3, 4, 5, 6, 7, 8, 9]])"
      ]
     },
     "execution_count": 32,
     "metadata": {},
     "output_type": "execute_result"
    }
   ],
   "source": [
    "# reshape fun\n",
    "b=np.array([[1,2,3],[4,5,6],[7,8,9]])\n",
    "b\n",
    "b.reshape(1,9)\n"
   ]
  },
  {
   "cell_type": "code",
   "execution_count": 39,
   "id": "5f854486-6452-403a-a54a-5d241e6b6c09",
   "metadata": {},
   "outputs": [
    {
     "name": "stdout",
     "output_type": "stream",
     "text": [
      "[[1 2 3]\n",
      " [4 5 6]\n",
      " [3 5 7]]\n",
      "[[10 20 30]\n",
      " [40 50 60]\n",
      " [ 3  2  1]]\n",
      "----------------\n",
      "[[11 22 33]\n",
      " [44 55 66]\n",
      " [ 6  7  8]]\n",
      "----------------\n",
      "[[ 10  40  90]\n",
      " [160 250 360]\n",
      " [  9  10   7]]\n",
      "[[0.1 0.1 0.1]\n",
      " [0.1 0.1 0.1]\n",
      " [1.  2.5 7. ]]\n"
     ]
    }
   ],
   "source": [
    "# mathematical operation on array\n",
    "p=np.array([[1,2,3],[4,5,6],[3,5,7]])\n",
    "print(p)\n",
    "q=np.array([[10,20,30],[40,50,60],[3,2,1]])\n",
    "print(q)\n",
    "print('----------------')\n",
    "s=p+q\n",
    "print(s)\n",
    "print('----------------')\n",
    "r=p*q\n",
    "print(r)\n",
    "print('-----------------')\n",
    "print(p/q)"
   ]
  },
  {
   "cell_type": "code",
   "execution_count": null,
   "id": "8dd6c119-15de-4882-8a5d-f23ee0fbd512",
   "metadata": {},
   "outputs": [],
   "source": []
  }
 ],
 "metadata": {
  "kernelspec": {
   "display_name": "Python 3 (ipykernel)",
   "language": "python",
   "name": "python3"
  },
  "language_info": {
   "codemirror_mode": {
    "name": "ipython",
    "version": 3
   },
   "file_extension": ".py",
   "mimetype": "text/x-python",
   "name": "python",
   "nbconvert_exporter": "python",
   "pygments_lexer": "ipython3",
   "version": "3.11.7"
  }
 },
 "nbformat": 4,
 "nbformat_minor": 5
}
