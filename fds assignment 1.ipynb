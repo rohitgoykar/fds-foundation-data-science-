{
 "cells": [
  {
   "cell_type": "code",
   "execution_count": 12,
   "id": "2d738ba6-35da-4aa0-9cae-71f832687114",
   "metadata": {},
   "outputs": [],
   "source": [
    "import numpy as np\n"
   ]
  },
  {
   "cell_type": "code",
   "execution_count": 2,
   "id": "78025ddf-c0c9-4d46-87d4-20b434abf187",
   "metadata": {},
   "outputs": [
    {
     "data": {
      "text/plain": [
       "array([0, 0, 0, 0, 0])"
      ]
     },
     "execution_count": 2,
     "metadata": {},
     "output_type": "execute_result"
    }
   ],
   "source": [
    "zeros_arr = np.zeros(5,dtype='int')\n",
    "zeros_arr\n"
   ]
  },
  {
   "cell_type": "code",
   "execution_count": 10,
   "id": "f7ccce6f-0532-4d19-bd1b-a3be67389cc4",
   "metadata": {},
   "outputs": [
    {
     "name": "stdout",
     "output_type": "stream",
     "text": [
      "[[1 2 3 4]\n",
      " [2 3 4 5]\n",
      " [3 4 5 6]]\n",
      "int32\n",
      "[[1 2 3]\n",
      " [2 3 4]\n",
      " [3 4 5]\n",
      " [4 5 6]]\n",
      "[ 0.   2.5  5.   7.5 10. ]\n"
     ]
    }
   ],
   "source": [
    "arr1=np.array([[1,2,3,4],[2,3,4,5],[3,4,5,6]])\n",
    "print(arr1)\n",
    "print(arr1.dtype)\n",
    "arr1.shape\n",
    "swapp=np.swapaxes(arr1,0,1)\n",
    "print(swapp)\n",
    "max=arr1.max()\n",
    "max\n",
    "arr1 = np.linspace(0, 10, 5)\n",
    "print(arr1)"
   ]
  },
  {
   "cell_type": "code",
   "execution_count": 11,
   "id": "c77d0982-0aec-480e-b62d-7fef79161d76",
   "metadata": {},
   "outputs": [
    {
     "name": "stdout",
     "output_type": "stream",
     "text": [
      "<class 'float'>\n"
     ]
    }
   ],
   "source": [
    "a=12.5\n",
    "print(type(a))\n"
   ]
  },
  {
   "cell_type": "code",
   "execution_count": null,
   "id": "e1b3e553-8c71-46ad-9bf1-ef1f21e5fe10",
   "metadata": {},
   "outputs": [],
   "source": []
  }
 ],
 "metadata": {
  "kernelspec": {
   "display_name": "Python 3 (ipykernel)",
   "language": "python",
   "name": "python3"
  },
  "language_info": {
   "codemirror_mode": {
    "name": "ipython",
    "version": 3
   },
   "file_extension": ".py",
   "mimetype": "text/x-python",
   "name": "python",
   "nbconvert_exporter": "python",
   "pygments_lexer": "ipython3",
   "version": "3.11.7"
  }
 },
 "nbformat": 4,
 "nbformat_minor": 5
}
